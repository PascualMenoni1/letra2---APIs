{
 "cells": [
  {
   "metadata": {},
   "cell_type": "markdown",
   "source": "## Importo librerias y cargo credenciales",
   "id": "b0eb257da1b6c6bc"
  },
  {
   "metadata": {
    "ExecuteTime": {
     "end_time": "2025-09-16T22:14:17.976398Z",
     "start_time": "2025-09-16T22:14:17.918098Z"
    }
   },
   "cell_type": "code",
   "source": [
    "import os\n",
    "from dotenv import load_dotenv\n",
    "\n",
    "load_dotenv()\n",
    "\n",
    "client_id = os.getenv(\"CLIENT_ID\")\n",
    "client_secret = os.getenv(\"CLIENT_SECRET\")\n",
    "\n",
    "print(client_id, client_secret)"
   ],
   "id": "38b1e55bea4ac8a1",
   "outputs": [
    {
     "name": "stdout",
     "output_type": "stream",
     "text": [
      "9e1da35f17e64119a319d874b5257319 e731fa74604d4fdc8d81233ba65296d4\n"
     ]
    }
   ],
   "execution_count": 4
  },
  {
   "metadata": {},
   "cell_type": "markdown",
   "source": "## Conexión a la API de Spotify con Spotipy",
   "id": "bbda766ce8f0c75"
  },
  {
   "metadata": {
    "ExecuteTime": {
     "end_time": "2025-09-16T22:14:18.758502Z",
     "start_time": "2025-09-16T22:14:18.006888Z"
    }
   },
   "cell_type": "code",
   "source": [
    "import spotipy\n",
    "from spotipy.oauth2 import SpotifyClientCredentials\n",
    "\n",
    "auth_manager = SpotifyClientCredentials(client_id=client_id, client_secret=client_secret)\n",
    "spotify = spotipy.Spotify(auth_manager=auth_manager)"
   ],
   "id": "10c558e7b687d15a",
   "outputs": [],
   "execution_count": 5
  },
  {
   "metadata": {},
   "cell_type": "markdown",
   "source": "## Recupera el Top 10 del artista",
   "id": "d669f1adac957dd6"
  },
  {
   "metadata": {
    "ExecuteTime": {
     "end_time": "2025-09-16T22:14:20.384145Z",
     "start_time": "2025-09-16T22:14:18.765765Z"
    }
   },
   "cell_type": "code",
   "source": [
    "artist_id =\"6olE6TJLqED3rqDCT0FyPh\"\n",
    "top_tracks = spotify.artist_top_tracks(artist_id, country='US')['tracks']\n",
    "\n",
    "top_10 = []\n",
    "for track in top_tracks[:10]:\n",
    "    top_10.append({\n",
    "        'song': track['name'],\n",
    "        'popularity': track['popularity'],\n",
    "        'duration': track['duration_ms'] // 1000\n",
    "    })\n",
    "\n",
    "print(top_10)"
   ],
   "id": "7700c2ae027c2bfa",
   "outputs": [
    {
     "name": "stdout",
     "output_type": "stream",
     "text": [
      "[{'song': 'Smells Like Teen Spirit', 'popularity': 84, 'duration': 301}, {'song': 'Come As You Are', 'popularity': 82, 'duration': 218}, {'song': 'Heart-Shaped Box', 'popularity': 81, 'duration': 281}, {'song': 'Lithium', 'popularity': 73, 'duration': 257}, {'song': 'About A Girl', 'popularity': 76, 'duration': 168}, {'song': 'The Man Who Sold The World - Live', 'popularity': 77, 'duration': 261}, {'song': 'Something In The Way', 'popularity': 72, 'duration': 232}, {'song': 'In Bloom', 'popularity': 69, 'duration': 255}, {'song': 'All Apologies', 'popularity': 74, 'duration': 233}, {'song': 'Dumb', 'popularity': 73, 'duration': 151}]\n"
     ]
    }
   ],
   "execution_count": 6
  }
 ],
 "metadata": {
  "kernelspec": {
   "display_name": "Python 3",
   "language": "python",
   "name": "python3"
  },
  "language_info": {
   "codemirror_mode": {
    "name": "ipython",
    "version": 2
   },
   "file_extension": ".py",
   "mimetype": "text/x-python",
   "name": "python",
   "nbconvert_exporter": "python",
   "pygments_lexer": "ipython2",
   "version": "2.7.6"
  }
 },
 "nbformat": 4,
 "nbformat_minor": 5
}
